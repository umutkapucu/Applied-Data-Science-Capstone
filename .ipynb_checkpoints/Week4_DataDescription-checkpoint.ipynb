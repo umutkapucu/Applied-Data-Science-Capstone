{
 "cells": [
  {
   "cell_type": "markdown",
   "metadata": {},
   "source": [
    "## The Battle of Neighborhoods - Data Description"
   ]
  },
  {
   "cell_type": "markdown",
   "metadata": {},
   "source": [
    "### Data"
   ]
  },
  {
   "cell_type": "markdown",
   "metadata": {},
   "source": [
    "Istanbul is the most populous city in Turkey and Europe. It has a great metropolitan area and has a population of 15 million. \n",
    "\n",
    "The smallest available units (districts) of Istanbul are used for this study. The districts are represented as postal codes obtained from the government postal service. https://postakodu.ptt.gov.tr/dosyalar/pk_list.zip\n",
    "\n",
    "From link, all postal codes could be retrieved for all cities, boroughes and districts in Turkey. Istanbul is filtered from data and saved as CSV file for that study.\n",
    "\n",
    "Foursquare API, as data source, venues in each district are listed with the specified restrictions (with radius 500 and limit 100). The venues are categorized and determine the most common ones for analysis."
   ]
  },
  {
   "cell_type": "markdown",
   "metadata": {},
   "source": [
    "### Methodology"
   ]
  },
  {
   "cell_type": "markdown",
   "metadata": {},
   "source": [
    "K-means is used for clustering and content-based filtering is used for recommendation.\n",
    "\n",
    "The following libraries are used for this project:\n",
    "\n",
    "- Numpy\n",
    "- Pandas\n",
    "- Json\n",
    "- Geocoder\n",
    "- Requests\n",
    "- Matplotlib\n",
    "- Folium\n",
    "- Scikit Learn"
   ]
  },
  {
   "cell_type": "code",
   "execution_count": null,
   "metadata": {},
   "outputs": [],
   "source": []
  }
 ],
 "metadata": {
  "kernelspec": {
   "display_name": "Python 3",
   "language": "python",
   "name": "python3"
  },
  "language_info": {
   "codemirror_mode": {
    "name": "ipython",
    "version": 3
   },
   "file_extension": ".py",
   "mimetype": "text/x-python",
   "name": "python",
   "nbconvert_exporter": "python",
   "pygments_lexer": "ipython3",
   "version": "3.7.6"
  }
 },
 "nbformat": 4,
 "nbformat_minor": 4
}
