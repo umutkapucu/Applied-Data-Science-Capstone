{
 "cells": [
  {
   "cell_type": "markdown",
   "metadata": {},
   "source": [
    "## The Battle of Neighborhoods - Business Proposal "
   ]
  },
  {
   "cell_type": "markdown",
   "metadata": {},
   "source": [
    "### Introduction"
   ]
  },
  {
   "cell_type": "markdown",
   "metadata": {},
   "source": [
    "The objective of my project is to help people in exploring similar district where they live and similar tastes of district which they rate. It will help people making decision on selecting similar and/or enjoyable districts in Istanbul, Turkey. \n",
    "\n",
    "Istanbul, formerly known as Byzantium and Constantinople, is the most populous city in Turkey. With a total population of around 15 million residents, Istanbul is one of the world's largest cities by population. It is a transcontinental city (divided by Bosphorus, Europe and Asia) between the Sea of Marmara and the Black Sea located south-eastern Europe. "
   ]
  },
  {
   "cell_type": "markdown",
   "metadata": {},
   "source": [
    "### Problem"
   ]
  },
  {
   "cell_type": "markdown",
   "metadata": {},
   "source": [
    "The purpose of this project, is to determine similar districts in Istanbul and recommend districts according to users ratings. By using data science methodology along with machine learning algorithms such as clustering and recommender system, the project aims to answer following questions:\n",
    "1. In Istanbul, how many district clusters and what are their attributes?\n",
    "2. According to users ratings for specific districts, which districts would be recommended to that user?"
   ]
  },
  {
   "cell_type": "markdown",
   "metadata": {},
   "source": [
    "### Data"
   ]
  },
  {
   "cell_type": "markdown",
   "metadata": {},
   "source": [
    "The smallest available units (districts) of Istanbul are used for this study. The districts are represented as postal codes obtained from the government postal service. https://postakodu.ptt.gov.tr/dosyalar/pk_list.zip\n",
    "\n",
    "Venues in each district are listed with the specified restrictions using postal codes and Foursquare API."
   ]
  },
  {
   "cell_type": "markdown",
   "metadata": {},
   "source": [
    "### Methodology"
   ]
  },
  {
   "cell_type": "markdown",
   "metadata": {},
   "source": [
    " K-means is used for clustering and content-based filtering is used for recommendation.\n",
    "\n",
    "The following libraries are used for this project:\n",
    "- Numpy\n",
    "- Pandas\n",
    "- Json\n",
    "- Geocoder\n",
    "- Requests\n",
    "- Matplotlib\n",
    "- Folium\n",
    "- Scikit Learn\n"
   ]
  },
  {
   "cell_type": "code",
   "execution_count": null,
   "metadata": {},
   "outputs": [],
   "source": []
  }
 ],
 "metadata": {
  "kernelspec": {
   "display_name": "Python 3",
   "language": "python",
   "name": "python3"
  },
  "language_info": {
   "codemirror_mode": {
    "name": "ipython",
    "version": 3
   },
   "file_extension": ".py",
   "mimetype": "text/x-python",
   "name": "python",
   "nbconvert_exporter": "python",
   "pygments_lexer": "ipython3",
   "version": "3.7.6"
  }
 },
 "nbformat": 4,
 "nbformat_minor": 4
}
